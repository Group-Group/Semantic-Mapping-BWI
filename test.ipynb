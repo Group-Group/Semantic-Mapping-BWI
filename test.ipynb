{
 "cells": [
  {
   "cell_type": "code",
   "execution_count": null,
   "metadata": {},
   "outputs": [
    {
     "name": "stdout",
     "output_type": "stream",
     "text": [
      "[[-1.64789784e-03 -6.73927537e-02  9.97725163e-01 -0.00000000e+00]\n",
      " [-9.99059027e-01  4.33523590e-02  1.27819533e-03  2.00000000e-06]\n",
      " [-4.33398806e-02 -9.96784224e-01 -6.74007792e-02 -1.00000000e-06]]\n",
      "[[-1.64800e-03 -6.73950e-02  9.97725e-01 -0.00000e+00]\n",
      " [-9.99059e-01  4.33530e-02  1.27800e-03  2.00000e-06]\n",
      " [-4.33400e-02 -9.96784e-01 -6.74030e-02 -1.00000e-06]]\n"
     ]
    }
   ],
   "source": [
    "import numpy as np\n",
    "\n",
    "raw_data = \"-0.001648 -0.067395 0.997725 -0.000000 -0.999059 0.043353 0.001278 0.000002 -0.043340 -0.996784 -0.067403 -0.000001\".split()\n",
    "\n",
    "raw_extrinsic = [float(p) for p in raw_data]\n",
    "raw_extrinsic = np.array(raw_extrinsic).reshape(3,4)\n",
    "\n",
    "quat_data = \"-0.000000 0.000002 -0.000001 -0.505569 0.527352 -0.471936 0.493534\".split()\n",
    "quat_data = [float(p) for p in quat_data]\n",
    "\n",
    "def quaternion_to_rotation_matrix(x, y, z, qx, qy, qz, qw):\n",
    "    # Normalize the quaternion\n",
    "    norm = np.sqrt(qx**2 + qy**2 + qz**2 + qw**2)\n",
    "    qx, qy, qz, qw = qx / norm, qy / norm, qz / norm, qw / norm\n",
    "\n",
    "    # Compute the rotation matrix\n",
    "    E_inv = np.zeros((3, 4))\n",
    "    R = np.array([\n",
    "        [1 - 2*(qy**2 + qz**2), 2*(qx*qy - qz*qw),     2*(qx*qz + qy*qw)],\n",
    "        [2*(qx*qy + qz*qw),     1 - 2*(qx**2 + qz**2), 2*(qy*qz - qx*qw)],\n",
    "        [2*(qx*qz - qy*qw),     2*(qy*qz + qx*qw),     1 - 2*(qx**2 + qy**2)]\n",
    "    ])\n",
    "\n",
    "    E_inv[:3, :3] = R\n",
    "    E_inv[:, 3] = np.array([x, y, z])\n",
    "    return E_inv\n",
    "\n",
    "print(quaternion_to_rotation_matrix(*quat_data))\n",
    "print(raw_extrinsic)"
   ]
  },
  {
   "cell_type": "code",
   "execution_count": 4,
   "metadata": {},
   "outputs": [
    {
     "data": {
      "text/plain": [
       "'83.png'"
      ]
     },
     "execution_count": 4,
     "metadata": {},
     "output_type": "execute_result"
    }
   ],
   "source": [
    "import os\n",
    "a = \"/f/83.png\"\n",
    "os.path.basename(a)"
   ]
  }
 ],
 "metadata": {
  "kernelspec": {
   "display_name": "Python 3",
   "language": "python",
   "name": "python3"
  },
  "language_info": {
   "codemirror_mode": {
    "name": "ipython",
    "version": 3
   },
   "file_extension": ".py",
   "mimetype": "text/x-python",
   "name": "python",
   "nbconvert_exporter": "python",
   "pygments_lexer": "ipython3",
   "version": "3.10.12"
  }
 },
 "nbformat": 4,
 "nbformat_minor": 2
}
