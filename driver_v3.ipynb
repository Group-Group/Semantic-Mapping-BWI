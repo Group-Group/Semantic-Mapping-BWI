{
 "cells": [
  {
   "cell_type": "code",
   "execution_count": 1,
   "metadata": {},
   "outputs": [
    {
     "name": "stdout",
     "output_type": "stream",
     "text": [
      "Jupyter environment detected. Enabling Open3D WebVisualizer.\n",
      "[Open3D INFO] WebRTC GUI backend enabled.\n",
      "[Open3D INFO] WebRTCWindowSystem: HTTP handshake server disabled.\n"
     ]
    }
   ],
   "source": [
    "import sys\n",
    "import os\n",
    "sys.path.append(\"./Grounded_Segment_Anything/recognize-anything\")\n",
    "sys.path.append(\"./Grounded_Segment_Anything/GroundingDINO\")\n",
    "sys.path.append(\"./Grounded_Segment_Anything/segment_anything\")\n",
    "\n",
    "import numpy as np\n",
    "import torch\n",
    "import cv2\n",
    "import matplotlib.pyplot as plt\n",
    "# import pykinect_azure as pykinect\n",
    "import open3d as o3d\n",
    "\n",
    "# Grounding DINO\n",
    "import Grounded_Segment_Anything.GroundingDINO.groundingdino.datasets.transforms as T\n",
    "from Grounded_Segment_Anything.GroundingDINO.groundingdino.models import build_model\n",
    "from Grounded_Segment_Anything.GroundingDINO.groundingdino.util.slconfig import SLConfig\n",
    "from Grounded_Segment_Anything.GroundingDINO.groundingdino.util.utils import (\n",
    "    clean_state_dict, \n",
    "    get_phrases_from_posmap\n",
    ")\n",
    "\n",
    "# Segment Anything\n",
    "from Grounded_Segment_Anything.segment_anything.segment_anything import (\n",
    "    sam_model_registry,\n",
    "    SamPredictor\n",
    ")\n",
    "\n",
    "from collections import defaultdict\n",
    "from PIL import Image\n",
    "from tqdm import tqdm\n",
    "\n",
    "from pointcloud import PointCloud\n",
    "from projections import PointProjector\n",
    "from aggregator import PointCloudAggregator\n",
    "\n",
    "GROUNDING_DINO_CONFIG = \"Grounded_Segment_Anything/GroundingDINO/groundingdino/config/GroundingDINO_SwinT_OGC.py\"\n",
    "GROUNDING_DINO_CHECKPOINT = \"Grounded_Segment_Anything/groundingdino_swint_ogc.pth\"\n",
    "SAM_CHECKPOINT = \"Grounded_Segment_Anything/sam_vit_h_4b8939.pth\"\n",
    "BOX_THRESHOLD = 0.3\n",
    "TEXT_THRESHOLD = 0.25\n",
    "DEVICE = \"cuda\"\n",
    "BERT_BASE_UNCASED_PATH = None\n",
    "\n",
    "# device_config = pykinect.default_configuration\n",
    "# device_config.color_format = pykinect.K4A_IMAGE_FORMAT_COLOR_BGRA32\n",
    "# device_config.color_resolution = pykinect.K4A_COLOR_RESOLUTION_720P\n",
    "# device_config.depth_mode = pykinect.K4A_DEPTH_MODE_NFOV_2X2BINNED\n",
    "\n",
    "# pykinect.initialize_libraries()"
   ]
  },
  {
   "cell_type": "code",
   "execution_count": 2,
   "metadata": {},
   "outputs": [
    {
     "name": "stderr",
     "output_type": "stream",
     "text": [
      "/home/bwilab/.local/lib/python3.10/site-packages/torch/functional.py:513: UserWarning: torch.meshgrid: in an upcoming release, it will be required to pass the indexing argument. (Triggered internally at ../aten/src/ATen/native/TensorShape.cpp:3609.)\n",
      "  return _VF.meshgrid(tensors, **kwargs)  # type: ignore[attr-defined]\n"
     ]
    },
    {
     "name": "stdout",
     "output_type": "stream",
     "text": [
      "final text_encoder_type: bert-base-uncased\n"
     ]
    },
    {
     "name": "stderr",
     "output_type": "stream",
     "text": [
      "/home/bwilab/.local/lib/python3.10/site-packages/transformers/tokenization_utils_base.py:1617: FutureWarning: `clean_up_tokenization_spaces` was not set. It will be set to `True` by default. This behavior will be deprecated in transformers v4.45, and will be then set to `False` by default. For more details check this issue: https://github.com/huggingface/transformers/issues/31884\n",
      "  warnings.warn(\n",
      "/tmp/ipykernel_416286/3929366484.py:57: FutureWarning: You are using `torch.load` with `weights_only=False` (the current default value), which uses the default pickle module implicitly. It is possible to construct malicious pickle data which will execute arbitrary code during unpickling (See https://github.com/pytorch/pytorch/blob/main/SECURITY.md#untrusted-models for more details). In a future release, the default value for `weights_only` will be flipped to `True`. This limits the functions that could be executed during unpickling. Arbitrary objects will no longer be allowed to be loaded via this mode unless they are explicitly allowlisted by the user via `torch.serialization.add_safe_globals`. We recommend you start setting `weights_only=True` for any use case where you don't have full control of the loaded file. Please open an issue on GitHub for any issues related to this experimental feature.\n",
      "  checkpoint = torch.load(model_checkpoint_path, map_location=\"cpu\")\n"
     ]
    },
    {
     "name": "stdout",
     "output_type": "stream",
     "text": [
      "_IncompatibleKeys(missing_keys=[], unexpected_keys=['label_enc.weight', 'bert.embeddings.position_ids'])\n"
     ]
    },
    {
     "name": "stderr",
     "output_type": "stream",
     "text": [
      "/home/bwilab/Semantic-Mapping-BWI/Grounded_Segment_Anything/segment_anything/segment_anything/build_sam.py:105: FutureWarning: You are using `torch.load` with `weights_only=False` (the current default value), which uses the default pickle module implicitly. It is possible to construct malicious pickle data which will execute arbitrary code during unpickling (See https://github.com/pytorch/pytorch/blob/main/SECURITY.md#untrusted-models for more details). In a future release, the default value for `weights_only` will be flipped to `True`. This limits the functions that could be executed during unpickling. Arbitrary objects will no longer be allowed to be loaded via this mode unless they are explicitly allowlisted by the user via `torch.serialization.add_safe_globals`. We recommend you start setting `weights_only=True` for any use case where you don't have full control of the loaded file. Please open an issue on GitHub for any issues related to this experimental feature.\n",
      "  state_dict = torch.load(f)\n"
     ]
    }
   ],
   "source": [
    "def get_rotation_translation(filepath) -> dict[np.ndarray]: ## filename -> transform\n",
    "    world_transforms = dict()\n",
    "    \n",
    "    skip_header = True\n",
    "    with open(filepath, 'r') as file:\n",
    "        for line in file:\n",
    "            if skip_header:\n",
    "                skip_header = False\n",
    "                continue\n",
    "\n",
    "            data = line.split()[1:] # ignore timestamp\n",
    "            filename = data.pop() + \".png\"\n",
    "            data = [float(p) for p in data]\n",
    "            rigid_transform = quaternion_to_rigid_transform(*data)\n",
    "            \n",
    "            ## first do E, then try E inverse\n",
    "            E = np.eye(4)\n",
    "            E[:3] = rigid_transform\n",
    "            world_transforms[filename] = E\n",
    "\n",
    "    return world_transforms\n",
    "\n",
    "def quaternion_to_rigid_transform(x, y, z, qx, qy, qz, qw) -> np.ndarray:\n",
    "    # Normalize the quaternion\n",
    "    norm = np.sqrt(qx**2 + qy**2 + qz**2 + qw**2)\n",
    "    qx, qy, qz, qw = qx / norm, qy / norm, qz / norm, qw / norm\n",
    "\n",
    "    # Compute the rotation matrix\n",
    "    E_inv = np.zeros((3, 4))\n",
    "    R = np.array([\n",
    "        [1 - 2*(qy**2 + qz**2), 2*(qx*qy - qz*qw),     2*(qx*qz + qy*qw)],\n",
    "        [2*(qx*qy + qz*qw),     1 - 2*(qx**2 + qz**2), 2*(qy*qz - qx*qw)],\n",
    "        [2*(qx*qz - qy*qw),     2*(qy*qz + qx*qw),     1 - 2*(qx**2 + qy**2)]\n",
    "    ])\n",
    "\n",
    "    E_inv[:3, :3] = R\n",
    "    E_inv[:, 3] = np.array([x, y, z])\n",
    "    return E_inv\n",
    "\n",
    "def prepare_image(image: np.ndarray):\n",
    "    transform = T.Compose([\n",
    "        T.RandomResize([800], max_size=1333),\n",
    "        T.ToTensor(),\n",
    "        T.Normalize([0.485, 0.456, 0.406], [0.229, 0.224, 0.225]),\n",
    "    ])\n",
    "\n",
    "    image_pil = Image.fromarray(image)\n",
    "    image_tensor, _ = transform(image_pil, None)  # 3, h, w\n",
    "    return image_pil, image_tensor\n",
    "\n",
    "def load_model(model_config_path, model_checkpoint_path, bert_base_uncased_path, device):\n",
    "    args = SLConfig.fromfile(model_config_path)\n",
    "    args.device = device\n",
    "    args.bert_base_uncased_path = bert_base_uncased_path\n",
    "\n",
    "    model = build_model(args)\n",
    "    checkpoint = torch.load(model_checkpoint_path, map_location=\"cpu\")\n",
    "    load_res = model.load_state_dict(clean_state_dict(checkpoint[\"model\"]), strict=False)\n",
    "    print(load_res)\n",
    "\n",
    "    model.eval()\n",
    "    return model\n",
    "\n",
    "def get_grounding_output(model, image, caption, box_threshold, text_threshold, with_logits=True, device=\"cpu\"):\n",
    "    caption = caption.lower().strip()\n",
    "    if not caption.endswith(\".\"):\n",
    "        caption += \".\"\n",
    "\n",
    "    model = model.to(device)\n",
    "    image = image.to(device)\n",
    "\n",
    "    with torch.no_grad():\n",
    "        outputs = model(image[None], captions=[caption])\n",
    "        logits = outputs[\"pred_logits\"].cpu().sigmoid()[0]\n",
    "        boxes = outputs[\"pred_boxes\"].cpu()[0]\n",
    "\n",
    "    filt_mask = logits.max(dim=1)[0] > box_threshold\n",
    "    logits_filt = logits[filt_mask]\n",
    "    boxes_filt = boxes[filt_mask]\n",
    "\n",
    "    tokenized = model.tokenizer(caption)\n",
    "    pred_phrases = [\n",
    "        get_phrases_from_posmap(logit > text_threshold, tokenized, model.tokenizer) +\n",
    "        (f\"({str(logit.max().item())[:4]})\" if with_logits else \"\")\n",
    "        for logit, _ in zip(logits_filt, boxes_filt)\n",
    "    ]\n",
    "\n",
    "    return boxes_filt, pred_phrases\n",
    "\n",
    "gd_model = load_model(GROUNDING_DINO_CONFIG, GROUNDING_DINO_CHECKPOINT, BERT_BASE_UNCASED_PATH, device=DEVICE)\n",
    "sam_model = SamPredictor(sam_model_registry[\"vit_h\"](checkpoint=SAM_CHECKPOINT).to(DEVICE))"
   ]
  },
  {
   "cell_type": "code",
   "execution_count": null,
   "metadata": {},
   "outputs": [
    {
     "name": "stderr",
     "output_type": "stream",
     "text": [
      "0it [00:00, ?it/s]"
     ]
    },
    {
     "name": "stderr",
     "output_type": "stream",
     "text": [
      "1it [00:01,  1.24s/it]"
     ]
    },
    {
     "name": "stdout",
     "output_type": "stream",
     "text": [
      "2.2637760665113136e-05 3.724806104251828e-05\n"
     ]
    },
    {
     "name": "stderr",
     "output_type": "stream",
     "text": [
      "3it [00:02,  1.07it/s]"
     ]
    },
    {
     "name": "stdout",
     "output_type": "stream",
     "text": [
      "0.0002098660761104951 3.724806104251828e-05\n",
      "swapped the pointclouds\n"
     ]
    },
    {
     "name": "stderr",
     "output_type": "stream",
     "text": [
      "7it [00:06,  1.34it/s]"
     ]
    },
    {
     "name": "stdout",
     "output_type": "stream",
     "text": [
      "0.0001649648477238602 9.970353169507759e-05\n",
      "swapped the pointclouds\n"
     ]
    },
    {
     "name": "stderr",
     "output_type": "stream",
     "text": [
      "17it [00:12,  1.49it/s]"
     ]
    },
    {
     "name": "stdout",
     "output_type": "stream",
     "text": [
      "0.0001282240589524004 1.5225534825047905e-05\n",
      "swapped the pointclouds\n"
     ]
    },
    {
     "name": "stderr",
     "output_type": "stream",
     "text": [
      "19it [00:14,  1.25it/s]"
     ]
    },
    {
     "name": "stdout",
     "output_type": "stream",
     "text": [
      "0.00010015335158024644 0.0\n",
      "swapped the pointclouds\n"
     ]
    },
    {
     "name": "stderr",
     "output_type": "stream",
     "text": [
      "20it [00:15,  1.13it/s]"
     ]
    },
    {
     "name": "stdout",
     "output_type": "stream",
     "text": [
      "0.00011998280436912186 5.057382383019412e-07\n",
      "swapped the pointclouds\n"
     ]
    },
    {
     "name": "stderr",
     "output_type": "stream",
     "text": [
      "24it [00:18,  1.12it/s]"
     ]
    },
    {
     "name": "stdout",
     "output_type": "stream",
     "text": [
      "0.0030290675656010355 3.42577678982847e-05\n",
      "swapped the pointclouds\n",
      "1.9497563040734045e-05 0.0008126510710826996\n"
     ]
    },
    {
     "name": "stderr",
     "output_type": "stream",
     "text": [
      "26it [00:19,  1.28it/s]"
     ]
    },
    {
     "name": "stdout",
     "output_type": "stream",
     "text": [
      "0.00016270010273645495 0.0008126510710826996\n"
     ]
    },
    {
     "name": "stderr",
     "output_type": "stream",
     "text": [
      "27it [00:21,  1.15it/s]"
     ]
    },
    {
     "name": "stdout",
     "output_type": "stream",
     "text": [
      "3.298754401536634e-05 3.8759304498684465e-05\n"
     ]
    },
    {
     "name": "stderr",
     "output_type": "stream",
     "text": [
      "28it [00:22,  1.09it/s]"
     ]
    },
    {
     "name": "stdout",
     "output_type": "stream",
     "text": [
      "0.00011040364101399879 0.0008126510710826996\n"
     ]
    },
    {
     "name": "stderr",
     "output_type": "stream",
     "text": [
      "30it [00:22,  1.41it/s]"
     ]
    },
    {
     "name": "stdout",
     "output_type": "stream",
     "text": [
      "7.545266508852438e-05 0.0008126510710826996\n"
     ]
    },
    {
     "name": "stderr",
     "output_type": "stream",
     "text": [
      "31it [00:23,  1.39it/s]"
     ]
    },
    {
     "name": "stdout",
     "output_type": "stream",
     "text": [
      "0.0014450484477943255 0.0008126510710826996\n",
      "swapped the pointclouds\n"
     ]
    },
    {
     "name": "stderr",
     "output_type": "stream",
     "text": [
      "32it [00:24,  1.37it/s]"
     ]
    },
    {
     "name": "stdout",
     "output_type": "stream",
     "text": [
      "0.0 3.8759304498684465e-05\n"
     ]
    },
    {
     "name": "stderr",
     "output_type": "stream",
     "text": [
      "35it [00:26,  1.48it/s]"
     ]
    },
    {
     "name": "stdout",
     "output_type": "stream",
     "text": [
      "0.0001271979864221163 0.0003391435824565908\n"
     ]
    },
    {
     "name": "stderr",
     "output_type": "stream",
     "text": [
      "39it [00:29,  1.34it/s]"
     ]
    },
    {
     "name": "stdout",
     "output_type": "stream",
     "text": [
      "0.00010102136950248828 2.3050508834580266e-05\n",
      "swapped the pointclouds\n"
     ]
    },
    {
     "name": "stderr",
     "output_type": "stream",
     "text": [
      "44it [00:33,  1.28it/s]"
     ]
    },
    {
     "name": "stdout",
     "output_type": "stream",
     "text": [
      "0.00033640921394500036 0.00010041161152241175\n",
      "swapped the pointclouds\n"
     ]
    },
    {
     "name": "stderr",
     "output_type": "stream",
     "text": [
      "45it [00:34,  1.29it/s]"
     ]
    },
    {
     "name": "stdout",
     "output_type": "stream",
     "text": [
      "8.264670058622297e-05 0.00015566652197113032\n"
     ]
    },
    {
     "name": "stderr",
     "output_type": "stream",
     "text": [
      "46it [00:35,  1.23it/s]"
     ]
    },
    {
     "name": "stdout",
     "output_type": "stream",
     "text": [
      "4.124779884776593e-07 3.065029903663102e-05\n",
      "5.6412753664846536e-05 0.00015566652197113032\n"
     ]
    },
    {
     "name": "stderr",
     "output_type": "stream",
     "text": [
      "47it [00:36,  1.20it/s]"
     ]
    },
    {
     "name": "stdout",
     "output_type": "stream",
     "text": [
      "0.0007771603172920297 0.00015566652197113032\n",
      "swapped the pointclouds\n",
      "0.13993850107682357 0.0\n",
      "swapped the pointclouds\n"
     ]
    },
    {
     "name": "stderr",
     "output_type": "stream",
     "text": [
      "49it [00:37,  1.36it/s]"
     ]
    },
    {
     "name": "stdout",
     "output_type": "stream",
     "text": [
      "0.0002126761705503517 0.0003391435824565908\n"
     ]
    },
    {
     "name": "stderr",
     "output_type": "stream",
     "text": [
      "                       "
     ]
    },
    {
     "name": "stdout",
     "output_type": "stream",
     "text": [
      "0.0002169891702494571 0.0003391435824565908\n"
     ]
    },
    {
     "name": "stderr",
     "output_type": "stream",
     "text": [
      "\r"
     ]
    }
   ],
   "source": [
    "# to-do: \n",
    "# 1) better merging algorithm in aggregator.py\n",
    "# 2) paint the pointcloud with provided method\n",
    "# 3) project the pointcloud onto the thingy\n",
    "\n",
    "## must have /rgb, /depth directories and /poses.txt file\n",
    "DIRECTORY = \"/home/bwilab/Documents/RTAB-Map/red_chair\"\n",
    "OBJECT_LABELS = \"couch.\"\n",
    "\n",
    "all_masks = defaultdict(list) # Object label --> list[masks]\n",
    "pointclouds = defaultdict(list) # Object label --> list[PointCloud]\n",
    "projector = PointProjector()\n",
    "aggregator = PointCloudAggregator(eps=2.0) ## higher eps == more merging, lower eps == more detail (or noise)\n",
    "\n",
    "world_transforms = get_rotation_translation(f\"{DIRECTORY}/poses-id.txt\")\n",
    "rgb_images = [f\"{DIRECTORY}/rgb/{file}\" for file in os.listdir(f\"{DIRECTORY}/rgb\")] ## os.listdir is arbitrary\n",
    "rgb_images.sort(key=lambda x: int(os.path.basename(x)[:-4]))\n",
    "\n",
    "depth_images = [f\"{DIRECTORY}/depth/{file}\" for file in os.listdir(f\"{DIRECTORY}/depth\")]\n",
    "depth_images.sort(key=lambda x: int(os.path.basename(x)[:-4]))\n",
    "assert(len(rgb_images) == len(depth_images) == len(world_transforms))\n",
    "\n",
    "rgb_images = rgb_images[:50]\n",
    "depth_images = depth_images[:50]\n",
    "\n",
    "for rgb_path, depth_path in tqdm(zip(rgb_images, depth_images), leave=False):\n",
    "    scene = defaultdict(list) # Object label --> list[masks]\n",
    "    transform = world_transforms[os.path.basename(rgb_path)]\n",
    "\n",
    "    assert os.path.basename(rgb_path) == os.path.basename(depth_path)\n",
    "\n",
    "    with Image.open(rgb_path) as color_image, Image.open(depth_path) as depth_image:\n",
    "        ## Make sure images are same dims\n",
    "        color_image, depth_image = np.array(color_image), np.array(depth_image)\n",
    "        resized_color_image = cv2.resize(color_image, depth_image.shape[::-1])\n",
    "\n",
    "    ## Feed through DINO\n",
    "    image_pil, image_tensor = prepare_image(resized_color_image)\n",
    "    boxes, pred_phrases = get_grounding_output(\n",
    "        gd_model, image_tensor, OBJECT_LABELS, BOX_THRESHOLD, TEXT_THRESHOLD, device=DEVICE\n",
    "    )\n",
    "\n",
    "    ## Prepare SAM\n",
    "    if torch.numel(boxes) == 0: # nothing found in frame\n",
    "        continue\n",
    "    \n",
    "    sam_model.set_image(resized_color_image)\n",
    "    W, H = image_pil.size\n",
    "    for i in range(boxes.size(0)):\n",
    "        boxes[i] *= torch.Tensor([W, H, W, H])\n",
    "        boxes[i][:2] -= boxes[i][2:] / 2\n",
    "        boxes[i][2:] += boxes[i][:2]\n",
    "\n",
    "    ## SAM outputs\n",
    "    transformed_boxes = sam_model.transform.apply_boxes_torch(boxes, resized_color_image.shape[:2]).to(DEVICE)\n",
    "    masks, _, _ = sam_model.predict_torch(\n",
    "        point_coords=None, point_labels=None, boxes=transformed_boxes.to(DEVICE), multimask_output=False\n",
    "    )\n",
    "\n",
    "    ## Associate outputs\n",
    "        ## How to use\n",
    "        # color_pixels = color_image * mask[:, :, None]\n",
    "        # depth_pixels = depth_image * mask\n",
    "    for mask, box, label in zip(masks, boxes, pred_phrases):\n",
    "        mask = mask[0].cpu().numpy()\n",
    "        x0, y0 = box[0], box[1]\n",
    "        label = label[:label.index('(')] # remove confidence\n",
    "        scene[label].append(mask)\n",
    "        all_masks[label].append(mask)\n",
    "\n",
    "    ## Generating pointclouds\n",
    "    for label in scene:\n",
    "        for mask in scene[label]:\n",
    "            masked_depth_image = depth_image * mask\n",
    "            masked_color_image = resized_color_image * mask[:, :, None]\n",
    "            # plt.imshow(masked_color_image)\n",
    "            # plt.show()\n",
    "            # plt.imshow(masked_depth_image)\n",
    "            # plt.show()\n",
    "\n",
    "            pcl = projector.get_pointcloud(masked_depth_image, masked_color_image, stride=3)\n",
    "            if pcl.is_empty():\n",
    "                continue\n",
    "\n",
    "            pcl.label = label\n",
    "            # aggregator._unmerged_pointclouds[label] += [pcl]\n",
    "            # {'chair': [[pcl1, pcl2], [pcl3]]}\n",
    "            # {'chair': [pcl1_done, pcl2_done]}\n",
    "            \n",
    "            ## TESTING 11/22\n",
    "            # aggregator.add_unmerged_pointcloud(pcl)\n",
    "            \n",
    "            #### if inverse extrinsic works use this\n",
    "            #### and make a more robust icp algorithm (which pointcloud to merge onto?)\n",
    "            target = aggregator.nearest_pointcloud(pcl, transform)\n",
    "            target = aggregator.aggregate_pointcloud(pcl, target, transform, verbose=False)\n",
    "            # target.clean()\n",
    "            \n",
    "            pointclouds[label].append(pcl)\n",
    "            # projector.visualize(pcl)\n",
    "\n",
    "## TESTING 11/22: merge all instances\n",
    "# aggregator.gather_pointclouds()\n",
    "# aggregator.aggregate_all()\n",
    "projector.visualize(aggregator.main)\n",
    "\n",
    "# allpoints = []\n",
    "\n",
    "# for label in pointclouds:\n",
    "#     for pcl in pointclouds[label]:\n",
    "#         allpoints.append(pcl)\n",
    "\n",
    "# projector.visualize(allpoints)\n",
    "\n",
    "## Show masked images\n",
    "# pcl_mask = scene['box'][0]\n",
    "# masked_color = resized_color_image * pcl_mask[:, :, None]\n",
    "# masked_depths = depth_image * pcl_mask\n",
    "# fig, axes = plt.subplots(1, 3, figsize=(10,5))\n",
    "# axes[0].axis('off'); axes[1].axis('off'); axes[2].axis('off')\n",
    "# axes[0].imshow(masked_color); axes[1].imshow(masked_depths); axes[2].imshow(resized_color_image)\n",
    "# plt.show()\n",
    "\n",
    "## Show pointclouds\n",
    "# projector.visualize(pointclouds['chair'][0])\n"
   ]
  },
  {
   "cell_type": "code",
   "execution_count": null,
   "metadata": {},
   "outputs": [
    {
     "name": "stdout",
     "output_type": "stream",
     "text": [
      "['/home/bwilab/Documents/RTAB-Map/red_chair/rgb/8.png', '/home/bwilab/Documents/RTAB-Map/red_chair/rgb/12.png', '/home/bwilab/Documents/RTAB-Map/red_chair/rgb/13.png', '/home/bwilab/Documents/RTAB-Map/red_chair/rgb/18.png', '/home/bwilab/Documents/RTAB-Map/red_chair/rgb/19.png', '/home/bwilab/Documents/RTAB-Map/red_chair/rgb/20.png', '/home/bwilab/Documents/RTAB-Map/red_chair/rgb/24.png', '/home/bwilab/Documents/RTAB-Map/red_chair/rgb/26.png', '/home/bwilab/Documents/RTAB-Map/red_chair/rgb/30.png', '/home/bwilab/Documents/RTAB-Map/red_chair/rgb/34.png', '/home/bwilab/Documents/RTAB-Map/red_chair/rgb/40.png', '/home/bwilab/Documents/RTAB-Map/red_chair/rgb/41.png', '/home/bwilab/Documents/RTAB-Map/red_chair/rgb/43.png', '/home/bwilab/Documents/RTAB-Map/red_chair/rgb/45.png', '/home/bwilab/Documents/RTAB-Map/red_chair/rgb/46.png', '/home/bwilab/Documents/RTAB-Map/red_chair/rgb/50.png', '/home/bwilab/Documents/RTAB-Map/red_chair/rgb/55.png', '/home/bwilab/Documents/RTAB-Map/red_chair/rgb/57.png', '/home/bwilab/Documents/RTAB-Map/red_chair/rgb/63.png', '/home/bwilab/Documents/RTAB-Map/red_chair/rgb/64.png', '/home/bwilab/Documents/RTAB-Map/red_chair/rgb/67.png', '/home/bwilab/Documents/RTAB-Map/red_chair/rgb/68.png', '/home/bwilab/Documents/RTAB-Map/red_chair/rgb/70.png', '/home/bwilab/Documents/RTAB-Map/red_chair/rgb/72.png', '/home/bwilab/Documents/RTAB-Map/red_chair/rgb/78.png', '/home/bwilab/Documents/RTAB-Map/red_chair/rgb/79.png', '/home/bwilab/Documents/RTAB-Map/red_chair/rgb/83.png', '/home/bwilab/Documents/RTAB-Map/red_chair/rgb/84.png', '/home/bwilab/Documents/RTAB-Map/red_chair/rgb/85.png', '/home/bwilab/Documents/RTAB-Map/red_chair/rgb/86.png', '/home/bwilab/Documents/RTAB-Map/red_chair/rgb/87.png', '/home/bwilab/Documents/RTAB-Map/red_chair/rgb/88.png', '/home/bwilab/Documents/RTAB-Map/red_chair/rgb/90.png', '/home/bwilab/Documents/RTAB-Map/red_chair/rgb/91.png', '/home/bwilab/Documents/RTAB-Map/red_chair/rgb/92.png', '/home/bwilab/Documents/RTAB-Map/red_chair/rgb/94.png', '/home/bwilab/Documents/RTAB-Map/red_chair/rgb/95.png', '/home/bwilab/Documents/RTAB-Map/red_chair/rgb/97.png', '/home/bwilab/Documents/RTAB-Map/red_chair/rgb/98.png', '/home/bwilab/Documents/RTAB-Map/red_chair/rgb/103.png', '/home/bwilab/Documents/RTAB-Map/red_chair/rgb/105.png', '/home/bwilab/Documents/RTAB-Map/red_chair/rgb/112.png', '/home/bwilab/Documents/RTAB-Map/red_chair/rgb/113.png', '/home/bwilab/Documents/RTAB-Map/red_chair/rgb/115.png', '/home/bwilab/Documents/RTAB-Map/red_chair/rgb/116.png', '/home/bwilab/Documents/RTAB-Map/red_chair/rgb/124.png', '/home/bwilab/Documents/RTAB-Map/red_chair/rgb/127.png', '/home/bwilab/Documents/RTAB-Map/red_chair/rgb/130.png', '/home/bwilab/Documents/RTAB-Map/red_chair/rgb/131.png', '/home/bwilab/Documents/RTAB-Map/red_chair/rgb/135.png']\n"
     ]
    }
   ],
   "source": [
    "# print('objects', aggregator._scene.keys())\n",
    "# projector.visualize(aggregator._scene['couch'])\n",
    "\n",
    "# res = PointCloud()\n",
    "# res.label = \"chair\"\n",
    "# for pcl in allpoints:\n",
    "#     res += pcl\n",
    "rgb_images.sort(key=lambda x: int(os.path.basename(x)[:-4]))\n",
    "print(rgb_images)\n",
    "\n",
    "# projector.visualize(aggregator._unmerged_pointclouds['couch'])\n",
    "# aggregator.gather_pointclouds()\n",
    "# aggregator.aggregate_all()\n",
    "# projector.visualize(aggregator._scene['couch'])"
   ]
  }
 ],
 "metadata": {
  "kernelspec": {
   "display_name": "Python 3",
   "language": "python",
   "name": "python3"
  },
  "language_info": {
   "codemirror_mode": {
    "name": "ipython",
    "version": 3
   },
   "file_extension": ".py",
   "mimetype": "text/x-python",
   "name": "python",
   "nbconvert_exporter": "python",
   "pygments_lexer": "ipython3",
   "version": "3.10.12"
  }
 },
 "nbformat": 4,
 "nbformat_minor": 2
}
