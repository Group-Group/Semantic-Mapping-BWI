{
 "cells": [
  {
   "cell_type": "code",
   "execution_count": null,
   "metadata": {},
   "outputs": [
    {
     "name": "stdout",
     "output_type": "stream",
     "text": [
      "[Open3D INFO] Window window_2 created.\n"
     ]
    },
    {
     "ename": "AttributeError",
     "evalue": "'open3d.cuda.pybind.visualization.O3DVisualizer' object has no attribute 'run'",
     "output_type": "error",
     "traceback": [
      "\u001b[0;31m---------------------------------------------------------------------------\u001b[0m",
      "\u001b[0;31mAttributeError\u001b[0m                            Traceback (most recent call last)",
      "Cell \u001b[0;32mIn[3], line 14\u001b[0m\n\u001b[1;32m     11\u001b[0m vis\u001b[38;5;241m.\u001b[39madd_geometry(\u001b[38;5;124m'\u001b[39m\u001b[38;5;124mpoints\u001b[39m\u001b[38;5;124m'\u001b[39m, pcd)\n\u001b[1;32m     13\u001b[0m app\u001b[38;5;241m.\u001b[39madd_window(vis)\n\u001b[0;32m---> 14\u001b[0m \u001b[43mvis\u001b[49m\u001b[38;5;241;43m.\u001b[39;49m\u001b[43mrun\u001b[49m()\n\u001b[1;32m     15\u001b[0m app\u001b[38;5;241m.\u001b[39mrun()\n",
      "\u001b[0;31mAttributeError\u001b[0m: 'open3d.cuda.pybind.visualization.O3DVisualizer' object has no attribute 'run'"
     ]
    }
   ],
   "source": [
    "import open3d as o3d\n",
    "import open3d.visualization.gui as gui\n",
    "import numpy as np\n",
    "\n",
    "app = gui.Application.instance\n",
    "app.initialize()\n",
    "\n",
    "vis = o3d.visualization.O3DVisualizer('point cloud', 800, 800)\n",
    "pcd = o3d.geometry.PointCloud()\n",
    "pcd.points = o3d.utility.Vector3dVector([[1, 2, 3]])\n",
    "vis.add_geometry('points', pcd)\n",
    "\n",
    "app.add_window(vis)\n",
    "app.run()"
   ]
  }
 ],
 "metadata": {
  "kernelspec": {
   "display_name": "Python 3",
   "language": "python",
   "name": "python3"
  },
  "language_info": {
   "codemirror_mode": {
    "name": "ipython",
    "version": 3
   },
   "file_extension": ".py",
   "mimetype": "text/x-python",
   "name": "python",
   "nbconvert_exporter": "python",
   "pygments_lexer": "ipython3",
   "version": "3.10.12"
  }
 },
 "nbformat": 4,
 "nbformat_minor": 2
}
