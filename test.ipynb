{
 "cells": [
  {
   "cell_type": "code",
   "execution_count": 1,
   "metadata": {},
   "outputs": [],
   "source": [
    "import numpy as np\n",
    "def calculate_rotation_angle(R1, R2):\n",
    "    R_rel = np.dot(R1.T, R2)  # R1^T * R2\n",
    "    trace_R_rel = np.trace(R_rel)\n",
    "    cos_theta = (trace_R_rel - 1) / 2.0\n",
    "    cos_theta = np.clip(cos_theta, -1.0, 1.0)\n",
    "    angle_radians = np.arccos(cos_theta)\n",
    "    angle_degrees = np.degrees(angle_radians)\n",
    "    return angle_degrees"
   ]
  },
  {
   "cell_type": "code",
   "execution_count": 54,
   "metadata": {},
   "outputs": [
    {
     "name": "stdout",
     "output_type": "stream",
     "text": [
      "76.41740261635717\n",
      "76.41740261635717\n"
     ]
    }
   ],
   "source": [
    "R1 = np.eye(3)\n",
    "R2 = np.random.uniform(size=(3, 3))\n",
    "\n",
    "print(calculate_rotation_angle(R1, R2))\n",
    "print(calculate_rotation_angle(R2, R1))"
   ]
  }
 ],
 "metadata": {
  "kernelspec": {
   "display_name": "Python 3",
   "language": "python",
   "name": "python3"
  },
  "language_info": {
   "codemirror_mode": {
    "name": "ipython",
    "version": 3
   },
   "file_extension": ".py",
   "mimetype": "text/x-python",
   "name": "python",
   "nbconvert_exporter": "python",
   "pygments_lexer": "ipython3",
   "version": "3.12.4"
  }
 },
 "nbformat": 4,
 "nbformat_minor": 2
}
