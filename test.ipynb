{
 "cells": [
  {
   "cell_type": "code",
   "execution_count": 1,
   "metadata": {},
   "outputs": [],
   "source": [
    "import numpy as np\n",
    "\n",
    "def get_rotation_translation(filepath) -> dict[np.ndarray]: ## filename -> transform\n",
    "    world_transforms = dict()\n",
    "    \n",
    "    skip_header = True\n",
    "    with open(filepath, 'r') as file:\n",
    "        for line in file:\n",
    "            if skip_header:\n",
    "                skip_header = False\n",
    "                continue\n",
    "\n",
    "            data = line.split()[1:] # ignore timestamp\n",
    "            filename = data.pop() + \".png\"\n",
    "            data = [float(p) for p in data]\n",
    "            rigid_transform = quaternion_to_rigid_transform(*data)\n",
    "            \n",
    "            ## first do E, then try E inverse\n",
    "            E = np.eye(4)\n",
    "            E[:3] = rigid_transform\n",
    "            world_transforms[filename] = E\n",
    "\n",
    "    return world_transforms\n",
    "\n",
    "def quaternion_to_rigid_transform(x, y, z, qx, qy, qz, qw) -> np.ndarray:\n",
    "    # Normalize the quaternion\n",
    "    norm = np.sqrt(qx**2 + qy**2 + qz**2 + qw**2)\n",
    "    qx, qy, qz, qw = qx / norm, qy / norm, qz / norm, qw / norm\n",
    "\n",
    "    # Compute the rotation matrix\n",
    "    E_inv = np.zeros((3, 4))\n",
    "    R = np.array([\n",
    "        [1 - 2*(qy**2 + qz**2), 2*(qx*qy - qz*qw),     2*(qx*qz + qy*qw)],\n",
    "        [2*(qx*qy + qz*qw),     1 - 2*(qx**2 + qz**2), 2*(qy*qz - qx*qw)],\n",
    "        [2*(qx*qz - qy*qw),     2*(qy*qz + qx*qw),     1 - 2*(qx**2 + qy**2)]\n",
    "    ])\n",
    "\n",
    "    E_inv[:3, :3] = R\n",
    "    E_inv[:, 3] = np.array([x, y, z])\n",
    "    return E_inv"
   ]
  },
  {
   "cell_type": "code",
   "execution_count": 2,
   "metadata": {},
   "outputs": [],
   "source": [
    "world_transforms = get_rotation_translation(\"./red_chair/poses.txt\")"
   ]
  },
  {
   "cell_type": "code",
   "execution_count": 4,
   "metadata": {},
   "outputs": [],
   "source": [
    "e1 = world_transforms['1.png']\n",
    "e2 = world_transforms['8.png']"
   ]
  }
 ],
 "metadata": {
  "kernelspec": {
   "display_name": "Python 3",
   "language": "python",
   "name": "python3"
  },
  "language_info": {
   "codemirror_mode": {
    "name": "ipython",
    "version": 3
   },
   "file_extension": ".py",
   "mimetype": "text/x-python",
   "name": "python",
   "nbconvert_exporter": "python",
   "pygments_lexer": "ipython3",
   "version": "3.12.4"
  }
 },
 "nbformat": 4,
 "nbformat_minor": 2
}
